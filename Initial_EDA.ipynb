{
 "cells": [
  {
   "cell_type": "code",
   "execution_count": 1,
   "metadata": {},
   "outputs": [],
   "source": [
    "import pandas as pd\n",
    "import numpy as np\n",
    "import os"
   ]
  },
  {
   "cell_type": "code",
   "execution_count": 42,
   "metadata": {},
   "outputs": [
    {
     "data": {
      "text/plain": [
       "40"
      ]
     },
     "execution_count": 42,
     "metadata": {},
     "output_type": "execute_result"
    }
   ],
   "source": [
    "# Analysis only focuses the first 10 races of the season. (As we have stored on AWS)\n",
    "# Run this only once when you have 88 files in your data folder. Do not run multiple times as it would wipe top 48 files everytime you run this\n",
    "\n",
    "\n",
    "\n",
    "# We need to remove the rest of the information to compress to only what is required\n",
    "# path = r\"C:\\Users\\abhij\\Git Repos\\F1---BigDataAnalysis\\archive\"\n",
    "# file_list = os.listdir(path)\n",
    "# file_list_df = pd.DataFrame((pd.DataFrame(file_list)[0].apply(lambda x: x.split(\"_\"))).tolist(), columns = ['Type','csvname'])\n",
    "\n",
    "# # Sort values by type and name of csv\n",
    "# file_list_df.sort_values(by = ['Type','csvname'], inplace=True)\n",
    "# to_keep_list = list(file_list_df.groupby(\"Type\").head(10)['Type'] + \"_\" + file_list_df.groupby(\"Type\").head(10)['csvname'])\n",
    "\n",
    "# for filename in file_list:\n",
    "#     if filename not in to_keep_list:\n",
    "#         # Get full path and remove it\n",
    "#         full_path = os.path.join(path, filename)\n",
    "#         os.remove(full_path)\n",
    "\n",
    "# Check if the deletion worked\n",
    "# len(os.listdir(r\"C:\\Users\\abhij\\Git Repos\\F1---BigDataAnalysis\\archive\"))"
   ]
  },
  {
   "cell_type": "code",
   "execution_count": 41,
   "metadata": {},
   "outputs": [
    {
     "data": {
      "text/plain": [
       "40"
      ]
     },
     "execution_count": 41,
     "metadata": {},
     "output_type": "execute_result"
    }
   ],
   "source": []
  },
  {
   "cell_type": "code",
   "execution_count": null,
   "metadata": {},
   "outputs": [],
   "source": []
  }
 ],
 "metadata": {
  "kernelspec": {
   "display_name": "Python 3.9.7 64-bit",
   "language": "python",
   "name": "python3"
  },
  "language_info": {
   "codemirror_mode": {
    "name": "ipython",
    "version": 3
   },
   "file_extension": ".py",
   "mimetype": "text/x-python",
   "name": "python",
   "nbconvert_exporter": "python",
   "pygments_lexer": "ipython3",
   "version": "3.9.7"
  },
  "orig_nbformat": 4,
  "vscode": {
   "interpreter": {
    "hash": "b8ffe1c3664f4da60e7310446699d2db577a48881ad6e046ce2077bbfacdc2a3"
   }
  }
 },
 "nbformat": 4,
 "nbformat_minor": 2
}
